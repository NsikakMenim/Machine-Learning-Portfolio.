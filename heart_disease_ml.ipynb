{
  "nbformat": 4,
  "nbformat_minor": 0,
  "metadata": {
    "colab": {
      "provenance": [],
      "gpuType": "T4",
      "authorship_tag": "ABX9TyNel2HqExTL5VubgjnKO5aa",
      "include_colab_link": true
    },
    "kernelspec": {
      "name": "python3",
      "display_name": "Python 3"
    },
    "language_info": {
      "name": "python"
    },
    "accelerator": "GPU"
  },
  "cells": [
    {
      "cell_type": "markdown",
      "metadata": {
        "id": "view-in-github",
        "colab_type": "text"
      },
      "source": [
        "<a href=\"https://colab.research.google.com/github/NsikakMenim/Machine-Learning-Portfolio./blob/main/heart_disease_ml.ipynb\" target=\"_parent\"><img src=\"https://colab.research.google.com/assets/colab-badge.svg\" alt=\"Open In Colab\"/></a>"
      ]
    },
    {
      "cell_type": "markdown",
      "source": [
        "# Predicting Heart Disease using Machine Learning."
      ],
      "metadata": {
        "id": "uYXR4W4gY-mY"
      }
    },
    {
      "cell_type": "markdown",
      "source": [
        "About Dataset\n",
        "\n",
        "This data set dates from 1988 and consists of four databases: Cleveland, Hungary, Switzerland, and Long Beach V. It contains 76 attributes, including the predicted attribute, but all published experiments refer to using a subset of 14 of them. The \"target\" field refers to the presence of heart disease in the patient. It is integer valued 0 = no disease and 1 = disease."
      ],
      "metadata": {
        "id": "8uJpqZ6qbSC7"
      }
    },
    {
      "cell_type": "markdown",
      "source": [
        "Attibute information\n",
        "1. age\n",
        "2. sex\n",
        "3. chest pain type (4 values)\n",
        "4. resting blood pressure\n",
        "5. serum cholestoral in mg/dl\n",
        "6. fasting blood sugar > 120 mg/dl\n",
        "7. resting electrocardiographic results (values 0,1,2)\n",
        "8. maximum heart rate achieved\n",
        "9. exercise induced angina\n",
        "10. oldpeak = ST depression induced by exercise relative to rest\n",
        "11. the slope of the peak exercise ST segment\n",
        "12. number of major vessels (0-3) colored by flourosopy\n",
        "13. thal: 0 = normal; 1 = fixed defect; 2 = reversable defect\n",
        "14. The names and social security numbers of the patients were recently removed from the database, replaced with dummy values."
      ],
      "metadata": {
        "id": "tncIwBOgbeBr"
      }
    },
    {
      "cell_type": "code",
      "execution_count": null,
      "metadata": {
        "colab": {
          "base_uri": "https://localhost:8080/"
        },
        "id": "DtgOLT9oVTTn",
        "outputId": "da2c6d87-8da3-496b-aaa3-7ee3852f5737"
      },
      "outputs": [
        {
          "output_type": "stream",
          "name": "stdout",
          "text": [
            "Warning: Looks like you're using an outdated `kagglehub` version (installed: 0.3.9), please consider upgrading to the latest version (0.3.10).\n",
            "Downloading from https://www.kaggle.com/api/v1/datasets/download/johnsmith88/heart-disease-dataset?dataset_version_number=2...\n"
          ]
        },
        {
          "output_type": "stream",
          "name": "stderr",
          "text": [
            "100%|██████████| 6.18k/6.18k [00:00<00:00, 8.95MB/s]"
          ]
        },
        {
          "output_type": "stream",
          "name": "stdout",
          "text": [
            "Extracting files...\n"
          ]
        },
        {
          "output_type": "stream",
          "name": "stderr",
          "text": [
            "\n"
          ]
        }
      ],
      "source": [
        "import kagglehub\n",
        "\n",
        "path = kagglehub.dataset_download(\"johnsmith88/heart-disease-dataset\")"
      ]
    },
    {
      "cell_type": "code",
      "source": [
        "import pandas as pd\n",
        "import os\n",
        "\n",
        "filename = \"heart.csv\"\n",
        "csv_filepath = os.path.join(path, filename)\n",
        "df = pd.read_csv(csv_filepath)\n",
        "\n",
        "df.head()"
      ],
      "metadata": {
        "colab": {
          "base_uri": "https://localhost:8080/",
          "height": 226
        },
        "id": "CcLTFOI0Yktt",
        "outputId": "aa652d1d-7c30-4cd8-bcc5-6df8cc031ee8"
      },
      "execution_count": null,
      "outputs": [
        {
          "output_type": "execute_result",
          "data": {
            "text/plain": [
              "   age  sex  cp  trestbps  chol  fbs  restecg  thalach  exang  oldpeak  slope  \\\n",
              "0   52    1   0       125   212    0        1      168      0      1.0      2   \n",
              "1   53    1   0       140   203    1        0      155      1      3.1      0   \n",
              "2   70    1   0       145   174    0        1      125      1      2.6      0   \n",
              "3   61    1   0       148   203    0        1      161      0      0.0      2   \n",
              "4   62    0   0       138   294    1        1      106      0      1.9      1   \n",
              "\n",
              "   ca  thal  target  \n",
              "0   2     3       0  \n",
              "1   0     3       0  \n",
              "2   0     3       0  \n",
              "3   1     3       0  \n",
              "4   3     2       0  "
            ],
            "text/html": [
              "\n",
              "  <div id=\"df-e64d7f3e-8570-4924-b68d-29112d49e090\" class=\"colab-df-container\">\n",
              "    <div>\n",
              "<style scoped>\n",
              "    .dataframe tbody tr th:only-of-type {\n",
              "        vertical-align: middle;\n",
              "    }\n",
              "\n",
              "    .dataframe tbody tr th {\n",
              "        vertical-align: top;\n",
              "    }\n",
              "\n",
              "    .dataframe thead th {\n",
              "        text-align: right;\n",
              "    }\n",
              "</style>\n",
              "<table border=\"1\" class=\"dataframe\">\n",
              "  <thead>\n",
              "    <tr style=\"text-align: right;\">\n",
              "      <th></th>\n",
              "      <th>age</th>\n",
              "      <th>sex</th>\n",
              "      <th>cp</th>\n",
              "      <th>trestbps</th>\n",
              "      <th>chol</th>\n",
              "      <th>fbs</th>\n",
              "      <th>restecg</th>\n",
              "      <th>thalach</th>\n",
              "      <th>exang</th>\n",
              "      <th>oldpeak</th>\n",
              "      <th>slope</th>\n",
              "      <th>ca</th>\n",
              "      <th>thal</th>\n",
              "      <th>target</th>\n",
              "    </tr>\n",
              "  </thead>\n",
              "  <tbody>\n",
              "    <tr>\n",
              "      <th>0</th>\n",
              "      <td>52</td>\n",
              "      <td>1</td>\n",
              "      <td>0</td>\n",
              "      <td>125</td>\n",
              "      <td>212</td>\n",
              "      <td>0</td>\n",
              "      <td>1</td>\n",
              "      <td>168</td>\n",
              "      <td>0</td>\n",
              "      <td>1.0</td>\n",
              "      <td>2</td>\n",
              "      <td>2</td>\n",
              "      <td>3</td>\n",
              "      <td>0</td>\n",
              "    </tr>\n",
              "    <tr>\n",
              "      <th>1</th>\n",
              "      <td>53</td>\n",
              "      <td>1</td>\n",
              "      <td>0</td>\n",
              "      <td>140</td>\n",
              "      <td>203</td>\n",
              "      <td>1</td>\n",
              "      <td>0</td>\n",
              "      <td>155</td>\n",
              "      <td>1</td>\n",
              "      <td>3.1</td>\n",
              "      <td>0</td>\n",
              "      <td>0</td>\n",
              "      <td>3</td>\n",
              "      <td>0</td>\n",
              "    </tr>\n",
              "    <tr>\n",
              "      <th>2</th>\n",
              "      <td>70</td>\n",
              "      <td>1</td>\n",
              "      <td>0</td>\n",
              "      <td>145</td>\n",
              "      <td>174</td>\n",
              "      <td>0</td>\n",
              "      <td>1</td>\n",
              "      <td>125</td>\n",
              "      <td>1</td>\n",
              "      <td>2.6</td>\n",
              "      <td>0</td>\n",
              "      <td>0</td>\n",
              "      <td>3</td>\n",
              "      <td>0</td>\n",
              "    </tr>\n",
              "    <tr>\n",
              "      <th>3</th>\n",
              "      <td>61</td>\n",
              "      <td>1</td>\n",
              "      <td>0</td>\n",
              "      <td>148</td>\n",
              "      <td>203</td>\n",
              "      <td>0</td>\n",
              "      <td>1</td>\n",
              "      <td>161</td>\n",
              "      <td>0</td>\n",
              "      <td>0.0</td>\n",
              "      <td>2</td>\n",
              "      <td>1</td>\n",
              "      <td>3</td>\n",
              "      <td>0</td>\n",
              "    </tr>\n",
              "    <tr>\n",
              "      <th>4</th>\n",
              "      <td>62</td>\n",
              "      <td>0</td>\n",
              "      <td>0</td>\n",
              "      <td>138</td>\n",
              "      <td>294</td>\n",
              "      <td>1</td>\n",
              "      <td>1</td>\n",
              "      <td>106</td>\n",
              "      <td>0</td>\n",
              "      <td>1.9</td>\n",
              "      <td>1</td>\n",
              "      <td>3</td>\n",
              "      <td>2</td>\n",
              "      <td>0</td>\n",
              "    </tr>\n",
              "  </tbody>\n",
              "</table>\n",
              "</div>\n",
              "    <div class=\"colab-df-buttons\">\n",
              "\n",
              "  <div class=\"colab-df-container\">\n",
              "    <button class=\"colab-df-convert\" onclick=\"convertToInteractive('df-e64d7f3e-8570-4924-b68d-29112d49e090')\"\n",
              "            title=\"Convert this dataframe to an interactive table.\"\n",
              "            style=\"display:none;\">\n",
              "\n",
              "  <svg xmlns=\"http://www.w3.org/2000/svg\" height=\"24px\" viewBox=\"0 -960 960 960\">\n",
              "    <path d=\"M120-120v-720h720v720H120Zm60-500h600v-160H180v160Zm220 220h160v-160H400v160Zm0 220h160v-160H400v160ZM180-400h160v-160H180v160Zm440 0h160v-160H620v160ZM180-180h160v-160H180v160Zm440 0h160v-160H620v160Z\"/>\n",
              "  </svg>\n",
              "    </button>\n",
              "\n",
              "  <style>\n",
              "    .colab-df-container {\n",
              "      display:flex;\n",
              "      gap: 12px;\n",
              "    }\n",
              "\n",
              "    .colab-df-convert {\n",
              "      background-color: #E8F0FE;\n",
              "      border: none;\n",
              "      border-radius: 50%;\n",
              "      cursor: pointer;\n",
              "      display: none;\n",
              "      fill: #1967D2;\n",
              "      height: 32px;\n",
              "      padding: 0 0 0 0;\n",
              "      width: 32px;\n",
              "    }\n",
              "\n",
              "    .colab-df-convert:hover {\n",
              "      background-color: #E2EBFA;\n",
              "      box-shadow: 0px 1px 2px rgba(60, 64, 67, 0.3), 0px 1px 3px 1px rgba(60, 64, 67, 0.15);\n",
              "      fill: #174EA6;\n",
              "    }\n",
              "\n",
              "    .colab-df-buttons div {\n",
              "      margin-bottom: 4px;\n",
              "    }\n",
              "\n",
              "    [theme=dark] .colab-df-convert {\n",
              "      background-color: #3B4455;\n",
              "      fill: #D2E3FC;\n",
              "    }\n",
              "\n",
              "    [theme=dark] .colab-df-convert:hover {\n",
              "      background-color: #434B5C;\n",
              "      box-shadow: 0px 1px 3px 1px rgba(0, 0, 0, 0.15);\n",
              "      filter: drop-shadow(0px 1px 2px rgba(0, 0, 0, 0.3));\n",
              "      fill: #FFFFFF;\n",
              "    }\n",
              "  </style>\n",
              "\n",
              "    <script>\n",
              "      const buttonEl =\n",
              "        document.querySelector('#df-e64d7f3e-8570-4924-b68d-29112d49e090 button.colab-df-convert');\n",
              "      buttonEl.style.display =\n",
              "        google.colab.kernel.accessAllowed ? 'block' : 'none';\n",
              "\n",
              "      async function convertToInteractive(key) {\n",
              "        const element = document.querySelector('#df-e64d7f3e-8570-4924-b68d-29112d49e090');\n",
              "        const dataTable =\n",
              "          await google.colab.kernel.invokeFunction('convertToInteractive',\n",
              "                                                    [key], {});\n",
              "        if (!dataTable) return;\n",
              "\n",
              "        const docLinkHtml = 'Like what you see? Visit the ' +\n",
              "          '<a target=\"_blank\" href=https://colab.research.google.com/notebooks/data_table.ipynb>data table notebook</a>'\n",
              "          + ' to learn more about interactive tables.';\n",
              "        element.innerHTML = '';\n",
              "        dataTable['output_type'] = 'display_data';\n",
              "        await google.colab.output.renderOutput(dataTable, element);\n",
              "        const docLink = document.createElement('div');\n",
              "        docLink.innerHTML = docLinkHtml;\n",
              "        element.appendChild(docLink);\n",
              "      }\n",
              "    </script>\n",
              "  </div>\n",
              "\n",
              "\n",
              "<div id=\"df-3c6de7fe-bb65-44cd-b12e-d59951e46ec3\">\n",
              "  <button class=\"colab-df-quickchart\" onclick=\"quickchart('df-3c6de7fe-bb65-44cd-b12e-d59951e46ec3')\"\n",
              "            title=\"Suggest charts\"\n",
              "            style=\"display:none;\">\n",
              "\n",
              "<svg xmlns=\"http://www.w3.org/2000/svg\" height=\"24px\"viewBox=\"0 0 24 24\"\n",
              "     width=\"24px\">\n",
              "    <g>\n",
              "        <path d=\"M19 3H5c-1.1 0-2 .9-2 2v14c0 1.1.9 2 2 2h14c1.1 0 2-.9 2-2V5c0-1.1-.9-2-2-2zM9 17H7v-7h2v7zm4 0h-2V7h2v10zm4 0h-2v-4h2v4z\"/>\n",
              "    </g>\n",
              "</svg>\n",
              "  </button>\n",
              "\n",
              "<style>\n",
              "  .colab-df-quickchart {\n",
              "      --bg-color: #E8F0FE;\n",
              "      --fill-color: #1967D2;\n",
              "      --hover-bg-color: #E2EBFA;\n",
              "      --hover-fill-color: #174EA6;\n",
              "      --disabled-fill-color: #AAA;\n",
              "      --disabled-bg-color: #DDD;\n",
              "  }\n",
              "\n",
              "  [theme=dark] .colab-df-quickchart {\n",
              "      --bg-color: #3B4455;\n",
              "      --fill-color: #D2E3FC;\n",
              "      --hover-bg-color: #434B5C;\n",
              "      --hover-fill-color: #FFFFFF;\n",
              "      --disabled-bg-color: #3B4455;\n",
              "      --disabled-fill-color: #666;\n",
              "  }\n",
              "\n",
              "  .colab-df-quickchart {\n",
              "    background-color: var(--bg-color);\n",
              "    border: none;\n",
              "    border-radius: 50%;\n",
              "    cursor: pointer;\n",
              "    display: none;\n",
              "    fill: var(--fill-color);\n",
              "    height: 32px;\n",
              "    padding: 0;\n",
              "    width: 32px;\n",
              "  }\n",
              "\n",
              "  .colab-df-quickchart:hover {\n",
              "    background-color: var(--hover-bg-color);\n",
              "    box-shadow: 0 1px 2px rgba(60, 64, 67, 0.3), 0 1px 3px 1px rgba(60, 64, 67, 0.15);\n",
              "    fill: var(--button-hover-fill-color);\n",
              "  }\n",
              "\n",
              "  .colab-df-quickchart-complete:disabled,\n",
              "  .colab-df-quickchart-complete:disabled:hover {\n",
              "    background-color: var(--disabled-bg-color);\n",
              "    fill: var(--disabled-fill-color);\n",
              "    box-shadow: none;\n",
              "  }\n",
              "\n",
              "  .colab-df-spinner {\n",
              "    border: 2px solid var(--fill-color);\n",
              "    border-color: transparent;\n",
              "    border-bottom-color: var(--fill-color);\n",
              "    animation:\n",
              "      spin 1s steps(1) infinite;\n",
              "  }\n",
              "\n",
              "  @keyframes spin {\n",
              "    0% {\n",
              "      border-color: transparent;\n",
              "      border-bottom-color: var(--fill-color);\n",
              "      border-left-color: var(--fill-color);\n",
              "    }\n",
              "    20% {\n",
              "      border-color: transparent;\n",
              "      border-left-color: var(--fill-color);\n",
              "      border-top-color: var(--fill-color);\n",
              "    }\n",
              "    30% {\n",
              "      border-color: transparent;\n",
              "      border-left-color: var(--fill-color);\n",
              "      border-top-color: var(--fill-color);\n",
              "      border-right-color: var(--fill-color);\n",
              "    }\n",
              "    40% {\n",
              "      border-color: transparent;\n",
              "      border-right-color: var(--fill-color);\n",
              "      border-top-color: var(--fill-color);\n",
              "    }\n",
              "    60% {\n",
              "      border-color: transparent;\n",
              "      border-right-color: var(--fill-color);\n",
              "    }\n",
              "    80% {\n",
              "      border-color: transparent;\n",
              "      border-right-color: var(--fill-color);\n",
              "      border-bottom-color: var(--fill-color);\n",
              "    }\n",
              "    90% {\n",
              "      border-color: transparent;\n",
              "      border-bottom-color: var(--fill-color);\n",
              "    }\n",
              "  }\n",
              "</style>\n",
              "\n",
              "  <script>\n",
              "    async function quickchart(key) {\n",
              "      const quickchartButtonEl =\n",
              "        document.querySelector('#' + key + ' button');\n",
              "      quickchartButtonEl.disabled = true;  // To prevent multiple clicks.\n",
              "      quickchartButtonEl.classList.add('colab-df-spinner');\n",
              "      try {\n",
              "        const charts = await google.colab.kernel.invokeFunction(\n",
              "            'suggestCharts', [key], {});\n",
              "      } catch (error) {\n",
              "        console.error('Error during call to suggestCharts:', error);\n",
              "      }\n",
              "      quickchartButtonEl.classList.remove('colab-df-spinner');\n",
              "      quickchartButtonEl.classList.add('colab-df-quickchart-complete');\n",
              "    }\n",
              "    (() => {\n",
              "      let quickchartButtonEl =\n",
              "        document.querySelector('#df-3c6de7fe-bb65-44cd-b12e-d59951e46ec3 button');\n",
              "      quickchartButtonEl.style.display =\n",
              "        google.colab.kernel.accessAllowed ? 'block' : 'none';\n",
              "    })();\n",
              "  </script>\n",
              "</div>\n",
              "\n",
              "    </div>\n",
              "  </div>\n"
            ],
            "application/vnd.google.colaboratory.intrinsic+json": {
              "type": "dataframe",
              "variable_name": "df",
              "summary": "{\n  \"name\": \"df\",\n  \"rows\": 1025,\n  \"fields\": [\n    {\n      \"column\": \"age\",\n      \"properties\": {\n        \"dtype\": \"number\",\n        \"std\": 9,\n        \"min\": 29,\n        \"max\": 77,\n        \"num_unique_values\": 41,\n        \"samples\": [\n          65,\n          50,\n          54\n        ],\n        \"semantic_type\": \"\",\n        \"description\": \"\"\n      }\n    },\n    {\n      \"column\": \"sex\",\n      \"properties\": {\n        \"dtype\": \"number\",\n        \"std\": 0,\n        \"min\": 0,\n        \"max\": 1,\n        \"num_unique_values\": 2,\n        \"samples\": [\n          0,\n          1\n        ],\n        \"semantic_type\": \"\",\n        \"description\": \"\"\n      }\n    },\n    {\n      \"column\": \"cp\",\n      \"properties\": {\n        \"dtype\": \"number\",\n        \"std\": 1,\n        \"min\": 0,\n        \"max\": 3,\n        \"num_unique_values\": 4,\n        \"samples\": [\n          1,\n          3\n        ],\n        \"semantic_type\": \"\",\n        \"description\": \"\"\n      }\n    },\n    {\n      \"column\": \"trestbps\",\n      \"properties\": {\n        \"dtype\": \"number\",\n        \"std\": 17,\n        \"min\": 94,\n        \"max\": 200,\n        \"num_unique_values\": 49,\n        \"samples\": [\n          128,\n          172\n        ],\n        \"semantic_type\": \"\",\n        \"description\": \"\"\n      }\n    },\n    {\n      \"column\": \"chol\",\n      \"properties\": {\n        \"dtype\": \"number\",\n        \"std\": 51,\n        \"min\": 126,\n        \"max\": 564,\n        \"num_unique_values\": 152,\n        \"samples\": [\n          267,\n          262\n        ],\n        \"semantic_type\": \"\",\n        \"description\": \"\"\n      }\n    },\n    {\n      \"column\": \"fbs\",\n      \"properties\": {\n        \"dtype\": \"number\",\n        \"std\": 0,\n        \"min\": 0,\n        \"max\": 1,\n        \"num_unique_values\": 2,\n        \"samples\": [\n          1,\n          0\n        ],\n        \"semantic_type\": \"\",\n        \"description\": \"\"\n      }\n    },\n    {\n      \"column\": \"restecg\",\n      \"properties\": {\n        \"dtype\": \"number\",\n        \"std\": 0,\n        \"min\": 0,\n        \"max\": 2,\n        \"num_unique_values\": 3,\n        \"samples\": [\n          1,\n          0\n        ],\n        \"semantic_type\": \"\",\n        \"description\": \"\"\n      }\n    },\n    {\n      \"column\": \"thalach\",\n      \"properties\": {\n        \"dtype\": \"number\",\n        \"std\": 23,\n        \"min\": 71,\n        \"max\": 202,\n        \"num_unique_values\": 91,\n        \"samples\": [\n          180,\n          152\n        ],\n        \"semantic_type\": \"\",\n        \"description\": \"\"\n      }\n    },\n    {\n      \"column\": \"exang\",\n      \"properties\": {\n        \"dtype\": \"number\",\n        \"std\": 0,\n        \"min\": 0,\n        \"max\": 1,\n        \"num_unique_values\": 2,\n        \"samples\": [\n          1,\n          0\n        ],\n        \"semantic_type\": \"\",\n        \"description\": \"\"\n      }\n    },\n    {\n      \"column\": \"oldpeak\",\n      \"properties\": {\n        \"dtype\": \"number\",\n        \"std\": 1.175053255150173,\n        \"min\": 0.0,\n        \"max\": 6.2,\n        \"num_unique_values\": 40,\n        \"samples\": [\n          2.8,\n          0.4\n        ],\n        \"semantic_type\": \"\",\n        \"description\": \"\"\n      }\n    },\n    {\n      \"column\": \"slope\",\n      \"properties\": {\n        \"dtype\": \"number\",\n        \"std\": 0,\n        \"min\": 0,\n        \"max\": 2,\n        \"num_unique_values\": 3,\n        \"samples\": [\n          2,\n          0\n        ],\n        \"semantic_type\": \"\",\n        \"description\": \"\"\n      }\n    },\n    {\n      \"column\": \"ca\",\n      \"properties\": {\n        \"dtype\": \"number\",\n        \"std\": 1,\n        \"min\": 0,\n        \"max\": 4,\n        \"num_unique_values\": 5,\n        \"samples\": [\n          0,\n          4\n        ],\n        \"semantic_type\": \"\",\n        \"description\": \"\"\n      }\n    },\n    {\n      \"column\": \"thal\",\n      \"properties\": {\n        \"dtype\": \"number\",\n        \"std\": 0,\n        \"min\": 0,\n        \"max\": 3,\n        \"num_unique_values\": 4,\n        \"samples\": [\n          2,\n          0\n        ],\n        \"semantic_type\": \"\",\n        \"description\": \"\"\n      }\n    },\n    {\n      \"column\": \"target\",\n      \"properties\": {\n        \"dtype\": \"number\",\n        \"std\": 0,\n        \"min\": 0,\n        \"max\": 1,\n        \"num_unique_values\": 2,\n        \"samples\": [\n          1,\n          0\n        ],\n        \"semantic_type\": \"\",\n        \"description\": \"\"\n      }\n    }\n  ]\n}"
            }
          },
          "metadata": {},
          "execution_count": 2
        }
      ]
    },
    {
      "cell_type": "markdown",
      "source": [
        "### 1. Problem Statement: Predicting if a patient has heart disease given some clinical data"
      ],
      "metadata": {
        "id": "rZl7xqAKaI22"
      }
    },
    {
      "cell_type": "markdown",
      "source": [
        "1. Exploratoy Data Analysis\n",
        "2. XgBoost\n",
        "3. Support vector\n",
        "4. Random Forest\n",
        "5. Neural Network\n",
        "6. Logistic Regression"
      ],
      "metadata": {
        "id": "9MaL06tbck0x"
      }
    },
    {
      "cell_type": "markdown",
      "source": [
        "# 1. Exploratory Data Analysis\n",
        "* age: Age in Years\n",
        "* sex: Sex (1 = Male, 0 = Female)\n",
        "* cp: Chest Pain Type\n",
        "    1. typical angina\n",
        "    2. atypical angina\n",
        "    3. non-anginal pain\n",
        "    4. asymptomatic\n",
        "* trestbps: Resting Blood Pressure (in mm Hg on admission to the hospital)\n",
        "* chol: Serum Cholesterol in mg/dl\n",
        "* fbs: Fasting Blood Sugar > 120 mg/dl (1 = True, 0 = False)\n",
        "* restecg: Resting Electrocardiographic Results\n",
        "* thalach: Maximum Heart Rate Achieved\n",
        "* exang: Exercise Induced Angina (1 = Yes, 0 = No)\n",
        "* oldpeak: ST Depression Induced by Exercise Relative to Rest\n",
        "* slope: Slope of the Peak Exercise ST Segment\n",
        "* ca: Number of Major Vessels (0-3) Colored by Fluoroscopy\n",
        "* thal: 3 = Normal; 6 = Fixed Defect; 7 = Reversible Defect\n",
        "* target: Diagnosis of Heart Disease (1 = Heart Disease, 0 = No Heart Disease)"
      ],
      "metadata": {
        "id": "fzgFKtP0KUN1"
      }
    },
    {
      "cell_type": "code",
      "source": [
        "from sklearn.model_selection import train_test_split\n",
        "import pandas as pd\n",
        "\n",
        "X = df.drop('target', axis=1)\n",
        "y = df['target']\n",
        "\n",
        "# Split the data into training and testing sets\n",
        "X_train, X_test, y_train, y_test = train_test_split(X, y, test_size=0.2, random_state=42)  # Adjust test_size as needed\n",
        "\n"
      ],
      "metadata": {
        "id": "xpFezkvAQvJf"
      },
      "execution_count": null,
      "outputs": []
    },
    {
      "cell_type": "code",
      "source": [],
      "metadata": {
        "id": "3r0NzocPSqop"
      },
      "execution_count": null,
      "outputs": []
    },
    {
      "cell_type": "code",
      "source": [
        "# Create a general function to fit and score models\n",
        "\n",
        "import numpy as np\n",
        "from sklearn.linear_model import LogisticRegression  # Import LogisticRegression\n",
        "from sklearn.neighbors import KNeighborsClassifier  # Import KNeighborsClassifier\n",
        "from sklearn.ensemble import RandomForestClassifier  # Import RandomForestClassifier\n",
        "from sklearn.svm import SVC  # Import SVC\n",
        "import xgboost as xgb  # Import xgboost (if xgb is intended for XGBoost)\n",
        "\n",
        "models = {\n",
        "    \"Logistic Regression\": LogisticRegression(),\n",
        "    \"KNN\": KNeighborsClassifier(),\n",
        "    \"Random Forest\": RandomForestClassifier(),\n",
        "    \"SVM\": SVC(),\n",
        "    \"XGBoost\": xgb.XGBClassifier(objective='binary:logistic', random_state=42)\n",
        "}\n",
        "\n",
        "\n",
        "def fit_and_score_models(models, X_train, X_test, y_train, y_test):\n",
        "    np.random.seed(42)\n",
        "    model_scores = {}\n",
        "    for name, model in models.items():\n",
        "        model.fit(X_train, y_train)\n",
        "        model_scores[name] = model.score(X_test, y_test)\n",
        "    return model_scores"
      ],
      "metadata": {
        "id": "MKi5zGI_IUnh"
      },
      "execution_count": null,
      "outputs": []
    },
    {
      "cell_type": "code",
      "source": [
        "model_scores = fit_and_score_models(models=models,\n",
        "                                    X_train=X_train,\n",
        "                                    X_test=X_test,\n",
        "                                    y_train=y_train,\n",
        "                                    y_test=y_test)\n",
        "model_scores"
      ],
      "metadata": {
        "colab": {
          "base_uri": "https://localhost:8080/"
        },
        "id": "cWJh_ojPGl8f",
        "outputId": "978a1d3b-bf5a-424a-ce67-026365e62c28"
      },
      "execution_count": null,
      "outputs": [
        {
          "output_type": "stream",
          "name": "stderr",
          "text": [
            "/usr/local/lib/python3.11/dist-packages/sklearn/linear_model/_logistic.py:465: ConvergenceWarning: lbfgs failed to converge (status=1):\n",
            "STOP: TOTAL NO. of ITERATIONS REACHED LIMIT.\n",
            "\n",
            "Increase the number of iterations (max_iter) or scale the data as shown in:\n",
            "    https://scikit-learn.org/stable/modules/preprocessing.html\n",
            "Please also refer to the documentation for alternative solver options:\n",
            "    https://scikit-learn.org/stable/modules/linear_model.html#logistic-regression\n",
            "  n_iter_i = _check_optimize_result(\n"
          ]
        },
        {
          "output_type": "execute_result",
          "data": {
            "text/plain": [
              "{'Logistic Regression': 0.7853658536585366,\n",
              " 'KNN': 0.7317073170731707,\n",
              " 'Random Forest': 0.9853658536585366,\n",
              " 'SVM': 0.6829268292682927,\n",
              " 'XGBoost': 0.9853658536585366}"
            ]
          },
          "metadata": {},
          "execution_count": 5
        }
      ]
    },
    {
      "cell_type": "markdown",
      "source": [
        "* Hyperparameter Tuning\n",
        "* Feature importance\n",
        "* Confusion matrix\n",
        "* Cross-Validation\n",
        "* Precision\n",
        "* Recall\n",
        "* F1 score\n",
        "* Classification report\n",
        "* ROC Curve\n",
        "* Area under the Curve (AUC)"
      ],
      "metadata": {
        "id": "99xrkeryI8I3"
      }
    },
    {
      "cell_type": "code",
      "source": [
        "# prompt: write a code to tune KNN model\n",
        "\n",
        "from sklearn.model_selection import GridSearchCV, RandomizedSearchCV\n",
        "from sklearn.neighbors import KNeighborsClassifier\n",
        "\n",
        "# Define the parameter grid for KNN\n",
        "param_grid = {\n",
        "    'n_neighbors': list(range(1, 31)),  # Test different numbers of neighbors\n",
        "    'weights': ['uniform', 'distance'],  # Experiment with weighting methods\n",
        "    'metric': ['euclidean', 'manhattan', 'minkowski'],  # Try different distance metrics\n",
        "    'p': [1, 2] # for minkowski metric\n",
        "}\n",
        "\n",
        "# Initialize KNN classifier\n",
        "knn = KNeighborsClassifier()\n",
        "\n",
        "# Initialize GridSearchCV or RandomizedSearchCV\n",
        "# GridSearchCV for exhaustive search (can be slow for large parameter grids)\n",
        "#grid_search = GridSearchCV(knn, param_grid, cv=5, scoring='accuracy')\n",
        "\n",
        "# RandomizedSearchCV for a faster, randomized search\n",
        "random_search = RandomizedSearchCV(knn, param_grid, n_iter=10, cv=5, scoring='accuracy', random_state=42)\n",
        "\n",
        "\n",
        "# Fit the GridSearchCV or RandomizedSearchCV object to the data\n",
        "#grid_search.fit(X_train, y_train)\n",
        "random_search.fit(X_train, y_train)\n",
        "\n",
        "\n",
        "# Get the best hyperparameters and best score\n",
        "#best_params = grid_search.best_params_\n",
        "#best_score = grid_search.best_score_\n",
        "best_params = random_search.best_params_\n",
        "best_score = random_search.best_score_\n",
        "\n",
        "print(f\"Best hyperparameters: {best_params}\")\n",
        "print(f\"Best cross-validation score: {best_score}\")\n",
        "\n",
        "\n",
        "# Evaluate the best model on the test set\n",
        "best_knn_model = random_search.best_estimator_\n",
        "test_accuracy = best_knn_model.score(X_test, y_test)\n",
        "print(f\"Test accuracy of best model: {test_accuracy}\")\n",
        "\n"
      ],
      "metadata": {
        "colab": {
          "base_uri": "https://localhost:8080/"
        },
        "id": "9Aj3eWlAJg6M",
        "outputId": "fa6e03f0-b8bc-4ddd-c070-d3d93bad1192"
      },
      "execution_count": null,
      "outputs": [
        {
          "output_type": "stream",
          "name": "stdout",
          "text": [
            "Best hyperparameters: {'weights': 'distance', 'p': 2, 'n_neighbors': 4, 'metric': 'euclidean'}\n",
            "Best cross-validation score: 0.9682926829268294\n",
            "Test accuracy of best model: 0.9853658536585366\n"
          ]
        }
      ]
    },
    {
      "cell_type": "code",
      "source": [
        "import numpy as np\n",
        "from sklearn.linear_model import LogisticRegression\n",
        "from sklearn.model_selection import GridSearchCV\n",
        "from sklearn.preprocessing import StandardScaler\n",
        "from sklearn.pipeline import Pipeline\n",
        "\n",
        "# Define the logarithmic scale for C values\n",
        "C_values = np.logspace(-4, 4, 20)  # Equivalent to [0.001, 0.01, 0.1, 1, 10, 100]\n",
        "\n",
        "# Define the parameter grid for Logistic Regression\n",
        "param_grid_lr = {\n",
        "    'logisticregression__C': C_values,\n",
        "    'logisticregression__penalty': ['l1', 'l2'],\n",
        "    'logisticregression__solver': ['liblinear', 'saga']\n",
        "}\n",
        "\n",
        "# Create a pipeline (Scaling + Logistic Regression)\n",
        "pipeline = Pipeline([\n",
        "    ('scaler', StandardScaler()),\n",
        "    ('logisticregression', LogisticRegression(max_iter=5000, tol=1e-4, random_state=42))\n",
        "])\n",
        "\n",
        "# Initialize GridSearchCV with parallel processing\n",
        "grid_search_lr = GridSearchCV(\n",
        "    pipeline, param_grid_lr, cv=5, scoring='accuracy', n_jobs=-1, verbose=1\n",
        ")\n",
        "\n",
        "# Fit GridSearchCV to the training data\n",
        "grid_search_lr.fit(X_train, y_train)\n",
        "\n",
        "# Extract the best hyperparameters and best score\n",
        "best_params_lr = grid_search_lr.best_params_\n",
        "best_score_lr = grid_search_lr.best_score_\n",
        "\n",
        "print(f\"Best hyperparameters for Logistic Regression: {best_params_lr}\")\n",
        "print(f\"Best cross-validation score for Logistic Regression: {best_score_lr:.4f}\")\n",
        "\n",
        "# Evaluate on the test set\n",
        "test_accuracy_lr = grid_search_lr.best_estimator_.score(X_test, y_test)\n",
        "print(f\"Test accuracy of best Logistic Regression model: {test_accuracy_lr:.4f}\")\n"
      ],
      "metadata": {
        "colab": {
          "base_uri": "https://localhost:8080/"
        },
        "id": "zW8GvlPEJ2Dm",
        "outputId": "5a77200b-5ed9-437d-ccb3-955b8bbf9b3e"
      },
      "execution_count": null,
      "outputs": [
        {
          "output_type": "stream",
          "name": "stdout",
          "text": [
            "Fitting 5 folds for each of 80 candidates, totalling 400 fits\n",
            "Best hyperparameters for Logistic Regression: {'logisticregression__C': 0.23357214690901212, 'logisticregression__penalty': 'l1', 'logisticregression__solver': 'saga'}\n",
            "Best cross-validation score for Logistic Regression: 0.8512\n",
            "Test accuracy of best Logistic Regression model: 0.7902\n"
          ]
        }
      ]
    },
    {
      "cell_type": "code",
      "source": [
        "# prompt: write a code to only tune random classifier\n",
        "\n",
        "from sklearn.ensemble import RandomForestClassifier\n",
        "from sklearn.model_selection import RandomizedSearchCV\n",
        "from sklearn.model_selection import train_test_split\n",
        "\n",
        "# Define the parameter grid for RandomForestClassifier\n",
        "param_grid_rf = {\n",
        "    'n_estimators': [100, 200, 300, 500],\n",
        "    'max_depth': [None, 10, 20, 30],\n",
        "    'min_samples_split': [2, 5, 10],\n",
        "    'min_samples_leaf': [1, 2, 4],\n",
        "    'max_features': ['sqrt', 'log2']\n",
        "}\n",
        "\n",
        "# Initialize RandomForestClassifier\n",
        "rf_classifier = RandomForestClassifier(random_state=42)\n",
        "\n",
        "\n",
        "# Initialize RandomizedSearchCV\n",
        "random_search_rf = RandomizedSearchCV(\n",
        "    estimator=rf_classifier,\n",
        "    param_distributions=param_grid_rf,\n",
        "    n_iter=10,  # Number of parameter settings that are sampled\n",
        "    cv=5,\n",
        "    scoring='accuracy',\n",
        "    random_state=42,\n",
        "    verbose=1,\n",
        "    n_jobs=-1  # Use all available processors\n",
        ")\n",
        "\n",
        "# Fit RandomizedSearchCV to the data\n",
        "random_search_rf.fit(X_train, y_train)\n",
        "\n",
        "\n",
        "# Get the best hyperparameters and best score\n",
        "best_params_rf = random_search_rf.best_params_\n",
        "best_score_rf = random_search_rf.best_score_\n",
        "\n",
        "print(f\"Best hyperparameters for Random Forest: {best_params_rf}\")\n",
        "print(f\"Best cross-validation score for Random Forest: {best_score_rf}\")\n",
        "\n",
        "# Evaluate the best model on the test set\n",
        "best_rf_model = random_search_rf.best_estimator_\n",
        "test_accuracy_rf = best_rf_model.score(X_test, y_test)\n",
        "print(f\"Test accuracy of best Random Forest model: {test_accuracy_rf}\")\n"
      ],
      "metadata": {
        "colab": {
          "base_uri": "https://localhost:8080/"
        },
        "id": "wuvdu7e-KQOI",
        "outputId": "f3d764bb-a4f3-47fb-81ab-f77819501161"
      },
      "execution_count": null,
      "outputs": [
        {
          "output_type": "stream",
          "name": "stdout",
          "text": [
            "Fitting 5 folds for each of 10 candidates, totalling 50 fits\n",
            "Best hyperparameters for Random Forest: {'n_estimators': 200, 'min_samples_split': 2, 'min_samples_leaf': 1, 'max_features': 'log2', 'max_depth': 20}\n",
            "Best cross-validation score for Random Forest: 0.9817073170731707\n",
            "Test accuracy of best Random Forest model: 0.9853658536585366\n"
          ]
        }
      ]
    },
    {
      "cell_type": "code",
      "source": [
        "import numpy as np\n",
        "from sklearn.svm import SVC\n",
        "from sklearn.model_selection import RandomizedSearchCV\n",
        "from sklearn.preprocessing import StandardScaler\n",
        "from sklearn.pipeline import Pipeline\n",
        "\n",
        "# Define the parameter grid with logarithmic scaling\n",
        "param_grid_svm = {\n",
        "    'svc__C': np.logspace(-2, 2, 5),  # Equivalent to [0.01, 0.1, 1, 10, 100]\n",
        "    'svc__gamma': np.logspace(-3, 1, 5),  # Equivalent to [0.001, 0.01, 0.1, 1, 10]\n",
        "    'svc__kernel': ['rbf', 'poly', 'sigmoid']\n",
        "}\n",
        "\n",
        "# Create a pipeline (Scaling + SVM)\n",
        "pipeline = Pipeline([\n",
        "    ('scaler', StandardScaler()),  # Ensures all features have the same scale\n",
        "    ('svc', SVC(random_state=42))  # Support Vector Machine Classifier\n",
        "])\n",
        "\n",
        "# Initialize RandomizedSearchCV for faster tuning\n",
        "random_search_svm = RandomizedSearchCV(\n",
        "    pipeline, param_distributions=param_grid_svm,\n",
        "    n_iter=10, cv=5, scoring='accuracy', random_state=42, n_jobs=-1, verbose=1\n",
        ")\n",
        "\n",
        "# Fit the model to the training data\n",
        "random_search_svm.fit(X_train, y_train)\n",
        "\n",
        "# Extract the best hyperparameters and best score\n",
        "best_params_svm = random_search_svm.best_params_\n",
        "best_score_svm = random_search_svm.best_score_\n",
        "\n",
        "print(f\"Best hyperparameters for SVM: {best_params_svm}\")\n",
        "print(f\"Best cross-validation score for SVM: {best_score_svm:.4f}\")\n",
        "\n",
        "# Evaluate on the test set\n",
        "test_accuracy_svm = random_search_svm.best_estimator_.score(X_test, y_test)\n",
        "print(f\"Test accuracy of best SVM model: {test_accuracy_svm:.4f}\")\n"
      ],
      "metadata": {
        "colab": {
          "base_uri": "https://localhost:8080/"
        },
        "id": "_DeUXOrfNfni",
        "outputId": "98676af4-6658-4802-d489-731d5eb2a3d4"
      },
      "execution_count": null,
      "outputs": [
        {
          "output_type": "stream",
          "name": "stdout",
          "text": [
            "Fitting 5 folds for each of 10 candidates, totalling 50 fits\n",
            "Best hyperparameters for SVM: {'svc__kernel': 'poly', 'svc__gamma': 1.0, 'svc__C': 0.01}\n",
            "Best cross-validation score for SVM: 0.9744\n",
            "Test accuracy of best SVM model: 0.9854\n"
          ]
        }
      ]
    },
    {
      "cell_type": "code",
      "source": [
        "import numpy as np\n",
        "import xgboost as xgb\n",
        "from sklearn.model_selection import RandomizedSearchCV\n",
        "from sklearn.preprocessing import StandardScaler\n",
        "from sklearn.pipeline import Pipeline\n",
        "\n",
        "# Define the parameter grid with logarithmic scaling\n",
        "param_grid_xgb = {\n",
        "    'xgbclassifier__max_depth': [3, 5, 7, 10],\n",
        "    'xgbclassifier__learning_rate': np.logspace(-3, -1, 5),  # [0.001, 0.003, 0.01, 0.03, 0.1]\n",
        "    'xgbclassifier__n_estimators': [100, 200, 300],\n",
        "    'xgbclassifier__subsample': [0.6, 0.8, 1.0],\n",
        "    'xgbclassifier__colsample_bytree': [0.6, 0.8, 1.0],\n",
        "    'xgbclassifier__gamma': np.logspace(-3, -1, 4),  # [0.001, 0.01, 0.1, 1]\n",
        "    'xgbclassifier__min_child_weight': [1, 3, 5],\n",
        "    'xgbclassifier__reg_alpha': [0, 0.01, 0.1]\n",
        "}\n",
        "\n",
        "# Create a pipeline (Scaling + XGBoost)\n",
        "pipeline = Pipeline([\n",
        "    ('scaler', StandardScaler()),  # Ensure all features are properly scaled\n",
        "    ('xgbclassifier', xgb.XGBClassifier(\n",
        "        objective='binary:logistic',\n",
        "        random_state=42,\n",
        "        use_label_encoder=False,\n",
        "        eval_metric='logloss'\n",
        "    ))\n",
        "])\n",
        "\n",
        "# Initialize RandomizedSearchCV with optimized parameters\n",
        "random_search_xgb = RandomizedSearchCV(\n",
        "    estimator=pipeline,\n",
        "    param_distributions=param_grid_xgb,\n",
        "    n_iter=20,  # More iterations for a better search\n",
        "    cv=5,\n",
        "    scoring='accuracy',\n",
        "    random_state=42,\n",
        "    verbose=2,  # More detailed output during search\n",
        "    n_jobs=-1  # Use all available CPU cores for parallel processing\n",
        ")\n",
        "\n",
        "# Fit RandomizedSearchCV with early stopping\n",
        "random_search_xgb.fit(X_train, y_train)\n",
        "\n",
        "# Extract the best hyperparameters and best score\n",
        "best_params_xgb = random_search_xgb.best_params_\n",
        "best_score_xgb = random_search_xgb.best_score_\n",
        "\n",
        "print(f\"Best hyperparameters for XGBoost: {best_params_xgb}\")\n",
        "print(f\"Best cross-validation score for XGBoost: {best_score_xgb:.4f}\")\n",
        "\n",
        "# Evaluate on the test set\n",
        "test_accuracy_xgb = random_search_xgb.best_estimator_.score(X_test, y_test)\n",
        "print(f\"Test accuracy of best XGBoost model: {test_accuracy_xgb:.4f}\")\n"
      ],
      "metadata": {
        "colab": {
          "base_uri": "https://localhost:8080/"
        },
        "id": "OOG_Kyd1Ny9a",
        "outputId": "21ecb3ae-f0d5-4110-f923-9d427396381d"
      },
      "execution_count": null,
      "outputs": [
        {
          "output_type": "stream",
          "name": "stdout",
          "text": [
            "Fitting 5 folds for each of 20 candidates, totalling 100 fits\n",
            "Best hyperparameters for XGBoost: {'xgbclassifier__subsample': 0.8, 'xgbclassifier__reg_alpha': 0.1, 'xgbclassifier__n_estimators': 300, 'xgbclassifier__min_child_weight': 1, 'xgbclassifier__max_depth': 10, 'xgbclassifier__learning_rate': 0.1, 'xgbclassifier__gamma': 0.021544346900318832, 'xgbclassifier__colsample_bytree': 0.8}\n",
            "Best cross-validation score for XGBoost: 0.9817\n",
            "Test accuracy of best XGBoost model: 0.9854\n"
          ]
        },
        {
          "output_type": "stream",
          "name": "stderr",
          "text": [
            "/usr/local/lib/python3.11/dist-packages/xgboost/core.py:158: UserWarning: [15:14:34] WARNING: /workspace/src/learner.cc:740: \n",
            "Parameters: { \"use_label_encoder\" } are not used.\n",
            "\n",
            "  warnings.warn(smsg, UserWarning)\n"
          ]
        }
      ]
    },
    {
      "cell_type": "code",
      "source": [
        "import numpy as np\n",
        "from sklearn.linear_model import LogisticRegression\n",
        "from sklearn.neighbors import KNeighborsClassifier\n",
        "from sklearn.ensemble import RandomForestClassifier\n",
        "from sklearn.svm import SVC\n",
        "import xgboost as xgb\n",
        "from sklearn.model_selection import GridSearchCV, RandomizedSearchCV\n",
        "\n",
        "# Define your base models\n",
        "models = {\n",
        "    \"Logistic Regression\": LogisticRegression(random_state=42),\n",
        "    \"KNN\": KNeighborsClassifier(),\n",
        "    \"Random Forest\": RandomForestClassifier(random_state=42),\n",
        "}\n",
        "\n",
        "# Define a dictionary of hyperparameter grids for each model.\n",
        "param_grids = {\n",
        "    \"Logistic Regression\": {\n",
        "        'C': np.logspace(-3, 2, 6),\n",
        "        'penalty': ['l1', 'l2'],\n",
        "        'solver': ['liblinear', 'saga']\n",
        "    },\n",
        "    \"KNN\": {\n",
        "        'n_neighbors': list(range(3, 15, 2)),\n",
        "        'weights': ['uniform', 'distance'],\n",
        "        'metric': ['euclidean', 'manhattan']\n",
        "    },\n",
        "    \"Random Forest\": {\n",
        "        'n_estimators': [100, 200, 300],\n",
        "        'max_depth': [None, 5, 10, 20],\n",
        "        'min_samples_split': [2, 5, 10]\n",
        "    },\n",
        "    # \"SVM\": {\n",
        "    #     'C': np.logspace(-2, 2, 5),\n",
        "    #     'gamma': np.logspace(-3, 1, 5),\n",
        "    #     'kernel': ['rbf', 'poly', 'sigmoid']\n",
        "    # },\n",
        "    # \"XGBoost\": {\n",
        "    #     'max_depth': [3, 5, 7],\n",
        "    #     'learning_rate': np.logspace(-3, -1, 5),  # e.g., 0.001 to 0.1\n",
        "    #     'n_estimators': [100, 200, 300],\n",
        "    #     'subsample': [0.6, 0.8, 1.0],\n",
        "    #     'colsample_bytree': [0.6, 0.8, 1.0],\n",
        "    #     'gamma': np.logspace(-3, -1, 4),  # e.g., 0.001 to 1\n",
        "    #     'min_child_weight': [1, 3, 5],\n",
        "    #     'reg_alpha': [0, 0.01, 0.1]\n",
        "    # }\n",
        "}\n",
        "\n",
        "def tune_models(models, param_grids, X_train, y_train,\n",
        "                cv=5, scoring='accuracy', search_type='grid',\n",
        "                n_iter=10, random_state=42, n_jobs=-1, verbose=1):\n",
        "    \"\"\"\n",
        "    Tune a dictionary of models using GridSearchCV or RandomizedSearchCV.\n",
        "\n",
        "    Parameters:\n",
        "      models (dict): Dictionary of model name to model instance.\n",
        "      param_grids (dict): Dictionary of model name to hyperparameter grid.\n",
        "      X_train, y_train: Training data.\n",
        "      cv (int): Number of cross-validation folds.\n",
        "      scoring (str): Scoring metric.\n",
        "      search_type (str): 'grid' for GridSearchCV or 'random' for RandomizedSearchCV.\n",
        "      n_iter (int): Number of iterations for RandomizedSearchCV.\n",
        "      random_state (int): Random state for reproducibility.\n",
        "      n_jobs (int): Number of jobs to run in parallel.\n",
        "      verbose (int): Verbosity level for the search.\n",
        "\n",
        "    Returns:\n",
        "      dict: Dictionary of model name to the tuned (best) model.\n",
        "    \"\"\"\n",
        "    tuned_models = {}\n",
        "    for name, model in models.items():\n",
        "        print(f\"Tuning {name}...\")\n",
        "        if name not in param_grids:\n",
        "            print(f\"No parameter grid for {name}, skipping tuning.\")\n",
        "            tuned_models[name] = model\n",
        "            continue\n",
        "\n",
        "        param_grid = param_grids[name]\n",
        "        if search_type == 'grid':\n",
        "            search = GridSearchCV(\n",
        "                model, param_grid, cv=cv, scoring=scoring,\n",
        "                n_jobs=n_jobs, verbose=verbose\n",
        "            )\n",
        "        elif search_type == 'random':\n",
        "            search = RandomizedSearchCV(\n",
        "                model, param_distributions=param_grid, n_iter=n_iter, cv=cv,\n",
        "                scoring=scoring, random_state=random_state, n_jobs=n_jobs, verbose=verbose\n",
        "            )\n",
        "        else:\n",
        "            raise ValueError(\"search_type must be either 'grid' or 'random'\")\n",
        "\n",
        "        search.fit(X_train, y_train)\n",
        "        tuned_models[name] = search.best_estimator_\n",
        "        print(f\"Best parameters for {name}: {search.best_params_}\")\n",
        "        print(f\"Best CV score for {name}: {search.best_score_:.4f}\\n\")\n",
        "    return tuned_models\n",
        "\n",
        "# Example usage:\n",
        "tuned_models = tune_models(models, param_grids, X_train, y_train, search_type='random')\n",
        "# Now you can evaluate each tuned model on the test set:\n",
        "for name, model in tuned_models.items():\n",
        "    score = model.score(X_test, y_test)\n",
        "    print(f\"Test accuracy for {name}: {score:.4f}\")\n"
      ],
      "metadata": {
        "colab": {
          "base_uri": "https://localhost:8080/"
        },
        "id": "xA22x3eES5OD",
        "outputId": "7bafccba-d2a6-47bd-a4fa-f6df33c64324"
      },
      "execution_count": null,
      "outputs": [
        {
          "output_type": "stream",
          "name": "stdout",
          "text": [
            "Tuning Logistic Regression...\n",
            "Fitting 5 folds for each of 10 candidates, totalling 50 fits\n",
            "Best parameters for Logistic Regression: {'solver': 'liblinear', 'penalty': 'l1', 'C': 10.0}\n",
            "Best CV score for Logistic Regression: 0.8524\n",
            "\n",
            "Tuning KNN...\n",
            "Fitting 5 folds for each of 10 candidates, totalling 50 fits\n",
            "Best parameters for KNN: {'weights': 'distance', 'n_neighbors': 3, 'metric': 'manhattan'}\n",
            "Best CV score for KNN: 0.9707\n",
            "\n",
            "Tuning Random Forest...\n",
            "Fitting 5 folds for each of 10 candidates, totalling 50 fits\n",
            "Best parameters for Random Forest: {'n_estimators': 200, 'min_samples_split': 5, 'max_depth': 20}\n",
            "Best CV score for Random Forest: 0.9744\n",
            "\n",
            "Test accuracy for Logistic Regression: 0.7951\n",
            "Test accuracy for KNN: 0.9854\n",
            "Test accuracy for Random Forest: 0.9854\n"
          ]
        }
      ]
    },
    {
      "cell_type": "code",
      "source": [
        "import numpy as np\n",
        "from sklearn.linear_model import LogisticRegression\n",
        "from sklearn.neighbors import KNeighborsClassifier\n",
        "from sklearn.ensemble import RandomForestClassifier\n",
        "from sklearn.svm import SVC\n",
        "import xgboost as xgb\n",
        "from sklearn.model_selection import GridSearchCV, RandomizedSearchCV\n",
        "\n",
        "# Define your base models\n",
        "models = {\n",
        "    \"Logistic Regression\": LogisticRegression(random_state=42),\n",
        "    \"KNN\": KNeighborsClassifier(),\n",
        "    \"Random Forest\": RandomForestClassifier(random_state=42),\n",
        "}\n",
        "\n",
        "# Define a dictionary of hyperparameter grids for each model.\n",
        "param_grids = {\n",
        "    \"Logistic Regression\": {\n",
        "        'C': np.logspace(-3, 2, 6),\n",
        "        'penalty': ['l1', 'l2'],\n",
        "        'solver': ['liblinear', 'saga']\n",
        "    },\n",
        "    \"KNN\": {\n",
        "        'n_neighbors': list(range(3, 15, 2)),\n",
        "        'weights': ['uniform', 'distance'],\n",
        "        'metric': ['euclidean', 'manhattan']\n",
        "    },\n",
        "    \"Random Forest\": {\n",
        "        'n_estimators': [100, 200, 300],\n",
        "        'max_depth': [None, 5, 10, 20],\n",
        "        'min_samples_split': [2, 5, 10]\n",
        "    },\n",
        "    # \"SVM\": {\n",
        "    #     'C': np.logspace(-2, 2, 5),\n",
        "    #     'gamma': np.logspace(-3, 1, 5),\n",
        "    #     'kernel': ['rbf', 'poly', 'sigmoid']\n",
        "    # },\n",
        "    # \"XGBoost\": {\n",
        "    #     'max_depth': [3, 5, 7],\n",
        "    #     'learning_rate': np.logspace(-3, -1, 5),  # e.g., 0.001 to 0.1\n",
        "    #     'n_estimators': [100, 200, 300],\n",
        "    #     'subsample': [0.6, 0.8, 1.0],\n",
        "    #     'colsample_bytree': [0.6, 0.8, 1.0],\n",
        "    #     'gamma': np.logspace(-3, -1, 4),  # e.g., 0.001 to 1\n",
        "    #     'min_child_weight': [1, 3, 5],\n",
        "    #     'reg_alpha': [0, 0.01, 0.1]\n",
        "    # }\n",
        "}\n",
        "\n",
        "def tune_models(models, param_grids, X_train, y_train,\n",
        "                cv=5, scoring='accuracy', search_type='grid',\n",
        "                n_iter=10, random_state=42, n_jobs=-1, verbose=1):\n",
        "    \"\"\"\n",
        "    Tune a dictionary of models using GridSearchCV or RandomizedSearchCV.\n",
        "\n",
        "    Parameters:\n",
        "      models (dict): Dictionary of model name to model instance.\n",
        "      param_grids (dict): Dictionary of model name to hyperparameter grid.\n",
        "      X_train, y_train: Training data.\n",
        "      cv (int): Number of cross-validation folds.\n",
        "      scoring (str): Scoring metric.\n",
        "      search_type (str): 'grid' for GridSearchCV or 'random' for RandomizedSearchCV.\n",
        "      n_iter (int): Number of iterations for RandomizedSearchCV.\n",
        "      random_state (int): Random state for reproducibility.\n",
        "      n_jobs (int): Number of jobs to run in parallel.\n",
        "      verbose (int): Verbosity level for the search.\n",
        "\n",
        "    Returns:\n",
        "      dict: Dictionary of model name to the tuned (best) model.\n",
        "    \"\"\"\n",
        "    tuned_models = {}\n",
        "    for name, model in models.items():\n",
        "        print(f\"Tuning {name}...\")\n",
        "        if name not in param_grids:\n",
        "            print(f\"No parameter grid for {name}, skipping tuning.\")\n",
        "            tuned_models[name] = model\n",
        "            continue\n",
        "\n",
        "        param_grid = param_grids[name]\n",
        "        if search_type == 'grid':\n",
        "            search = GridSearchCV(\n",
        "                model, param_grid, cv=cv, scoring=scoring,\n",
        "                n_jobs=n_jobs, verbose=verbose\n",
        "            )\n",
        "        elif search_type == 'random':\n",
        "            search = RandomizedSearchCV(\n",
        "                model, param_distributions=param_grid, n_iter=n_iter, cv=cv,\n",
        "                scoring=scoring, random_state=random_state, n_jobs=n_jobs, verbose=verbose\n",
        "            )\n",
        "        else:\n",
        "            raise ValueError(\"search_type must be either 'grid' or 'random'\")\n",
        "\n",
        "        search.fit(X_train, y_train)\n",
        "        tuned_models[name] = search.best_estimator_\n",
        "        print(f\"Best parameters for {name}: {search.best_params_}\")\n",
        "        print(f\"Best CV score for {name}: {search.best_score_:.4f}\\n\")\n",
        "    return tuned_models\n",
        "\n",
        "# Example usage:\n",
        "tuned_models = tune_models(models, param_grids, X_train, y_train, search_type='grid')\n",
        "# Now you can evaluate each tuned model on the test set:\n",
        "for name, model in tuned_models.items():\n",
        "    score = model.score(X_test, y_test)\n",
        "    print(f\"Test accuracy for {name}: {score:.4f}\")\n"
      ],
      "metadata": {
        "colab": {
          "base_uri": "https://localhost:8080/"
        },
        "id": "_jxcTbNTS7eW",
        "outputId": "bbd0c189-6e67-46cf-d9fd-6b5fccb02910"
      },
      "execution_count": null,
      "outputs": [
        {
          "output_type": "stream",
          "name": "stdout",
          "text": [
            "Tuning Logistic Regression...\n",
            "Fitting 5 folds for each of 24 candidates, totalling 120 fits\n",
            "Best parameters for Logistic Regression: {'C': 1.0, 'penalty': 'l1', 'solver': 'liblinear'}\n",
            "Best CV score for Logistic Regression: 0.8549\n",
            "\n",
            "Tuning KNN...\n",
            "Fitting 5 folds for each of 24 candidates, totalling 120 fits\n",
            "Best parameters for KNN: {'metric': 'manhattan', 'n_neighbors': 3, 'weights': 'distance'}\n",
            "Best CV score for KNN: 0.9707\n",
            "\n",
            "Tuning Random Forest...\n",
            "Fitting 5 folds for each of 36 candidates, totalling 180 fits\n",
            "Best parameters for Random Forest: {'max_depth': None, 'min_samples_split': 2, 'n_estimators': 100}\n",
            "Best CV score for Random Forest: 0.9817\n",
            "\n",
            "Test accuracy for Logistic Regression: 0.7854\n",
            "Test accuracy for KNN: 0.9854\n",
            "Test accuracy for Random Forest: 0.9854\n"
          ]
        }
      ]
    },
    {
      "cell_type": "code",
      "source": [
        "# prompt: plot roc curve and calculate auc metric\n",
        "\n",
        "import matplotlib.pyplot as plt\n",
        "from sklearn.metrics import roc_curve, auc\n",
        "\n",
        "# Assuming 'tuned_models' and 'X_test', 'y_test' are defined from the previous code\n",
        "for name, model in tuned_models.items():\n",
        "    y_pred_prob = model.predict_proba(X_test)[:, 1]  # Probabilities for the positive class\n",
        "    fpr, tpr, thresholds = roc_curve(y_test, y_pred_prob)\n",
        "    roc_auc = auc(fpr, tpr)\n",
        "\n",
        "    plt.figure()\n",
        "    plt.plot(fpr, tpr, color='darkorange', lw=2, label=f'ROC curve (area = {roc_auc:.2f})')\n",
        "    plt.plot([0, 1], [0, 1], color='navy', lw=2, linestyle='--')\n",
        "    plt.xlim([0.0, 1.0])\n",
        "    plt.ylim([0.0, 1.05])\n",
        "    plt.xlabel('False Positive Rate')\n",
        "    plt.ylabel('True Positive Rate')\n",
        "    plt.title(f'Receiver Operating Characteristic for {name}')\n",
        "    plt.legend(loc=\"lower right\")\n",
        "    plt.show()\n"
      ],
      "metadata": {
        "colab": {
          "base_uri": "https://localhost:8080/",
          "height": 1000
        },
        "id": "hTCKXFVTZ1jl",
        "outputId": "a8a31a09-99ea-435d-d308-79947092919d"
      },
      "execution_count": null,
      "outputs": [
        {
          "output_type": "display_data",
          "data": {
            "text/plain": [
              "<Figure size 640x480 with 1 Axes>"
            ],
            "image/png": "[encoded data removed]"
          },
          "metadata": {}
        },
        {
          "output_type": "display_data",
          "data": {
            "text/plain": [
              "<Figure size 640x480 with 1 Axes>"
            ],
            "image/png": "[encoded data removed]"
          },
          "metadata": {}
        },
        {
          "output_type": "display_data",
          "data": {
            "text/plain": [
              "<Figure size 640x480 with 1 Axes>"
            ],
            "image/png": "[encoded data removed]"
          },
          "metadata": {}
        }
      ]
    },
    {
      "cell_type": "code",
      "source": [
        "import seaborn as sns\n",
        "import matplotlib.pyplot as plt\n",
        "from sklearn.metrics import confusion_matrix\n",
        "\n",
        "def plot_confusion_matrix(y_true, y_pred, labels=None, model_name=\"Model\"):\n",
        "    \"\"\"Plots a confusion matrix using Seaborn heatmap.\"\"\"\n",
        "    cm = confusion_matrix(y_true, y_pred)\n",
        "    labels = labels if labels else [f'Class {i}' for i in range(cm.shape[0])]\n",
        "\n",
        "    plt.figure(figsize=(6, 5))\n",
        "    sns.heatmap(cm, annot=True, fmt=\"d\", cmap=\"Blues\",\n",
        "                xticklabels=labels, yticklabels=labels, cbar=False)\n",
        "    plt.xlabel('Predicted')\n",
        "    plt.ylabel('Actual')\n",
        "    plt.title(f'Confusion Matrix - {model_name}')\n",
        "    plt.show()\n",
        "\n",
        "# Example usage\n",
        "models_to_evaluate = ['Logistic Regression', 'KNN', 'Random Forest']\n",
        "\n",
        "for model_name in models_to_evaluate:\n",
        "    y_pred = tuned_models[model_name].predict(X_test)\n",
        "    plot_confusion_matrix(y_test, y_pred, labels=['Class 0', 'Class 1'], model_name=model_name)\n"
      ],
      "metadata": {
        "colab": {
          "base_uri": "https://localhost:8080/",
          "height": 1000
        },
        "id": "nC5SiMOt1R3O",
        "outputId": "840f83a2-021d-45af-c3a4-b79c951bdc6f"
      },
      "execution_count": null,
      "outputs": [
        {
          "output_type": "display_data",
          "data": {
            "text/plain": [
              "<Figure size 600x500 with 1 Axes>"
            ],
            "image/png": "[encoded data removed]"
          },
          "metadata": {}
        },
        {
          "output_type": "display_data",
          "data": {
            "text/plain": [
              "<Figure size 600x500 with 1 Axes>"
            ],
            "image/png": "[encoded data removed]"
          },
          "metadata": {}
        },
        {
          "output_type": "display_data",
          "data": {
            "text/plain": [
              "<Figure size 600x500 with 1 Axes>"
            ],
            "image/png": "[encoded data removed]"
          },
          "metadata": {}
        }
      ]
    },
    {
      "cell_type": "code",
      "source": [
        "# prompt: get the classification report as well as cross-validated precision, recall and f1-score\n",
        "\n",
        "from sklearn.metrics import classification_report, precision_score, recall_score, f1_score, roc_curve, auc, confusion_matrix\n",
        "from sklearn.model_selection import cross_val_score\n",
        "import matplotlib.pyplot as plt\n",
        "import seaborn as sns\n",
        "\n",
        "\n",
        "for name, model in tuned_models.items():\n",
        "    print(f\"Classification Report for {name}:\\n\")\n",
        "    y_pred = model.predict(X_test)\n",
        "    print(classification_report(y_test, y_pred))\n",
        "\n",
        "    # Cross-validated metrics\n",
        "    precision_cv = cross_val_score(model, X_train, y_train, cv=5, scoring='precision')\n",
        "    recall_cv = cross_val_score(model, X_train, y_train, cv=5, scoring='recall')\n",
        "    f1_cv = cross_val_score(model, X_train, y_train, cv=5, scoring='f1')\n",
        "\n",
        "    print(f\"\\nCross-Validated Metrics for {name}:\")\n",
        "    print(f\"Precision: {precision_cv.mean():.4f} (+/- {precision_cv.std() * 2:.4f})\")\n",
        "    print(f\"Recall: {recall_cv.mean():.4f} (+/- {recall_cv.std() * 2:.4f})\")\n",
        "    print(f\"F1-score: {f1_cv.mean():.4f} (+/- {f1_cv.std() * 2:.4f})\\n\")\n"
      ],
      "metadata": {
        "colab": {
          "base_uri": "https://localhost:8080/"
        },
        "id": "4LeIPpVJ1u6d",
        "outputId": "e8fe86e9-e265-4a4d-9445-d4d487c5e4ea"
      },
      "execution_count": null,
      "outputs": [
        {
          "output_type": "stream",
          "name": "stdout",
          "text": [
            "Classification Report for Logistic Regression:\n",
            "\n",
            "              precision    recall  f1-score   support\n",
            "\n",
            "           0       0.85      0.70      0.76       102\n",
            "           1       0.74      0.87      0.80       103\n",
            "\n",
            "    accuracy                           0.79       205\n",
            "   macro avg       0.79      0.78      0.78       205\n",
            "weighted avg       0.79      0.79      0.78       205\n",
            "\n",
            "\n",
            "Cross-Validated Metrics for Logistic Regression:\n",
            "Precision: 0.8298 (+/- 0.0927)\n",
            "Recall: 0.9078 (+/- 0.0663)\n",
            "F1-score: 0.8662 (+/- 0.0631)\n",
            "\n",
            "Classification Report for KNN:\n",
            "\n",
            "              precision    recall  f1-score   support\n",
            "\n",
            "           0       0.97      1.00      0.99       102\n",
            "           1       1.00      0.97      0.99       103\n",
            "\n",
            "    accuracy                           0.99       205\n",
            "   macro avg       0.99      0.99      0.99       205\n",
            "weighted avg       0.99      0.99      0.99       205\n",
            "\n",
            "\n",
            "Cross-Validated Metrics for KNN:\n",
            "Precision: 0.9747 (+/- 0.0460)\n",
            "Recall: 0.9693 (+/- 0.0382)\n",
            "F1-score: 0.9716 (+/- 0.0188)\n",
            "\n",
            "Classification Report for Random Forest:\n",
            "\n",
            "              precision    recall  f1-score   support\n",
            "\n",
            "           0       0.97      1.00      0.99       102\n",
            "           1       1.00      0.97      0.99       103\n",
            "\n",
            "    accuracy                           0.99       205\n",
            "   macro avg       0.99      0.99      0.99       205\n",
            "weighted avg       0.99      0.99      0.99       205\n",
            "\n",
            "\n",
            "Cross-Validated Metrics for Random Forest:\n",
            "Precision: 0.9793 (+/- 0.0413)\n",
            "Recall: 0.9859 (+/- 0.0456)\n",
            "F1-score: 0.9823 (+/- 0.0310)\n",
            "\n"
          ]
        }
      ]
    },
    {
      "cell_type": "code",
      "source": [],
      "metadata": {
        "id": "Nfe-98jt_P1W"
      },
      "execution_count": null,
      "outputs": []
    }
  ]
}